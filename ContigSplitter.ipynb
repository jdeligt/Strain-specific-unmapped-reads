{
 "metadata": {
  "name": "",
  "signature": "sha256:95ddb5cbe6072f96e7e297edb94a77b3b9e67fe8aaf17adf3839eab879837c21"
 },
 "nbformat": 3,
 "nbformat_minor": 0,
 "worksheets": [
  {
   "cells": [
    {
     "cell_type": "markdown",
     "metadata": {},
     "source": [
      "#About\n",
      "In this notebook, we process the ```.psl```-files of blat. We have allready processed these files, keeping only the best match for each contigs."
     ]
    },
    {
     "cell_type": "markdown",
     "metadata": {},
     "source": [
      "##Strain-specific: definition\n",
      "Using the phylogenetic Tree of 28 Rat Strains from Atanur et al. (2013), we define two sub-strains from the same colony and/or institute as derived from one strain by setting a threshold on the maximal genetic distance. This threshold is set at 0.0175. Merged substrains will result in a \"founder-strain\": Fisscher, Wistar-Kyoto, Milan, Lyon, Dahl Salt, Fawn-hooded, Lewis, SHR, or Sabra."
     ]
    },
    {
     "cell_type": "markdown",
     "metadata": {},
     "source": [
      "##Flow\n",
      "1. For each PSL, filter (< 100bp and 80% similarity) and store remaining contig-names in a list.\n",
      "1. For each contig known, check if it exists in the non-strain sub-strains."
     ]
    },
    {
     "cell_type": "code",
     "collapsed": false,
     "input": [
      "import os, re"
     ],
     "language": "python",
     "metadata": {},
     "outputs": [],
     "prompt_number": 1
    },
    {
     "cell_type": "markdown",
     "metadata": {},
     "source": [
      "Make list of substrain that are within one strain. These PSL-files will be ignored."
     ]
    },
    {
     "cell_type": "code",
     "collapsed": false,
     "input": [
      "ignoreList =['BGI_F344_in_F344_Ncrl.psl',\n",
      "             'BGI_F344_in_F344_Prin.psl',\n",
      "             'BGI_F344_in_tadao_F344.psl',\n",
      "             'F344_Ncrl_in_BGI_F344.psl',\n",
      "             'F344_Ncrl_in_F344_Prin.psl',\n",
      "             'F344_Ncrl_in_tadao_F344.psl',\n",
      "             'F344_Prin_in_BGI_F344.psl',\n",
      "             'F344_Prin_in_F344_Ncrl.psl',\n",
      "             'F344_Prin_in_tadao_F344.psl',\n",
      "             'FHH_EurMcwi_in_FHL_EurMcwi.psl',\n",
      "             'FHL_EurMcwi_in_FHH_EurMcwi.psl',\n",
      "             'LEW_Crl_in_LEW_NCrlBR.psl',\n",
      "             'LEW_NCrlBR_in_LEW_Crl.psl',\n",
      "             'LH_MavRrrc_in_LL_MavRrrc.psl',\n",
      "             'LH_MavRrrc_in_LN_MavRrrc.psl',\n",
      "             'LL_MavRrrc_in_LH_MavRrrc.psl',\n",
      "             'LL_MavRrrc_in_LN_MavRrrc.psl',\n",
      "             'LN_MavRrrc_in_LH_MavRrrc.psl',\n",
      "             'LN_MavRrrc_in_LL_MavRrrc.psl',\n",
      "             'MHS_Gib_in_MNS_Gib.psl',\n",
      "             'MNS_Gib_in_MHS_Gib.psl',\n",
      "             'SBH_Ygl_in_SBN_Ygl.psl',\n",
      "             'SBN_Ygl_in_SBH_Ygl.psl',\n",
      "             'SHRSP_Gla_in_SHR_NCrl_Prin.psl',\n",
      "             'SHRSP_Gla_in_SHR_NHsd.psl',\n",
      "             'SHRSP_Gla_in_SHR_OlaIpcv_Prin.psl',\n",
      "             'SHRSP_Gla_in_SHR_olalPcv.psl',\n",
      "             'SHR_NCrl_Prin_in_SHRSP_Gla.psl',\n",
      "             'SHR_NCrl_Prin_in_SHR_NHsd.psl',\n",
      "             'SHR_NCrl_Prin_in_SHR_OlaIpcv_Prin.psl',\n",
      "             'SHR_NCrl_Prin_in_SHR_olalPcv.psl',\n",
      "             'SHR_NHsd_in_SHRSP_Gla.psl',\n",
      "             'SHR_NHsd_in_SHR_NCrl_Prin.psl',\n",
      "             'SHR_NHsd_in_SHR_OlaIpcv_Prin.psl',\n",
      "             'SHR_NHsd_in_SHR_olalPcv.psl',\n",
      "             'SHR_OlaIpcv_Prin_in_SHRSP_Gla.psl',\n",
      "             'SHR_OlaIpcv_Prin_in_SHR_NCrl_Prin.psl',\n",
      "             'SHR_OlaIpcv_Prin_in_SHR_NHsd.psl',\n",
      "             'SHR_OlaIpcv_Prin_in_SHR_olalPcv.psl',\n",
      "             'SHR_olalPcv_in_SHRSP_Gla.psl',\n",
      "             'SHR_olalPcv_in_SHR_NCrl_Prin.psl',\n",
      "             'SHR_olalPcv_in_SHR_NHsd.psl',\n",
      "             'SHR_olalPcv_in_SHR_OlaIpcv_Prin.psl',\n",
      "             'SR_Jr_in_SS_Jr.psl',\n",
      "             'SR_Jr_in_SS_JrHsdMcwi.psl',\n",
      "             'SS_JrHsdMcwi_in_SR_Jr.psl',\n",
      "             'SS_JrHsdMcwi_in_SS_Jr.psl',\n",
      "             'SS_Jr_in_SR_Jr.psl',\n",
      "             'SS_Jr_in_SS_JrHsdMcwi.psl',\n",
      "             'WKY_Gla_in_WKY_NCrl.psl',\n",
      "             'WKY_Gla_in_WKY_NHsd.psl',\n",
      "             'WKY_NCrl_in_WKY_Gla.psl',\n",
      "             'WKY_NCrl_in_WKY_NHsd.psl',\n",
      "             'WKY_NHsd_in_WKY_Gla.psl',\n",
      "             'WKY_NHsd_in_WKY_NCrl.psl'\n",
      "]"
     ],
     "language": "python",
     "metadata": {},
     "outputs": [],
     "prompt_number": 13
    },
    {
     "cell_type": "code",
     "collapsed": false,
     "input": [
      "ACI_EurMcwi  = []\n",
      "BBDP_Wor  = []\n",
      "BGI_F344  = []\n",
      "BNLX_Cub_Prin  = []\n",
      "DA  = []\n",
      "F344_Ncrl  = []\n",
      "F344_Prin  = []\n",
      "FHH_EurMcwi  = []\n",
      "FHL_EurMcwi  = []\n",
      "GK_Ox  = []\n",
      "LEW_Crl  = []\n",
      "LEW_NCrlBR  = []\n",
      "LE_STM  = []\n",
      "LH_MavRrrc  = []\n",
      "LL_MavRrrc  = []\n",
      "LN_MavRrrc  = []\n",
      "MHS_Gib  = []\n",
      "MNS_Gib  = []\n",
      "SBH_Ygl  = []\n",
      "SBN_Ygl  = []\n",
      "SHRSP_Gla  = []\n",
      "SHR_NCrl_Prin  = []\n",
      "SHR_NHsd  = []\n",
      "SHR_OlaIpcv_Prin  = []\n",
      "SHR_olalPcv  = []\n",
      "SR_Jr  = []\n",
      "SS_Jr  = []\n",
      "SS_JrHsdMcwi  = []\n",
      "WAG_Rij  = []\n",
      "WKY_Gla  = []\n",
      "WKY_NCrl  = []\n",
      "WKY_NHsd  = []\n",
      "tadao_F344  = []"
     ],
     "language": "python",
     "metadata": {},
     "outputs": [],
     "prompt_number": 14
    },
    {
     "cell_type": "code",
     "collapsed": false,
     "input": [
      "strainList = ['ACI_EurMcwi','BBDP_Wor','BGI_F344','BNLX_Cub_Prin','DA','F344_Ncrl','F344_Prin','FHH_EurMcwi','FHL_EurMcwi','GK_Ox','LEW_Crl','LEW_NCrlBR','LE_STM','LH_MavRrrc','LL_MavRrrc','LN_MavRrrc','MHS_Gib','MNS_Gib','SBH_Ygl','SBN_Ygl','SHRSP_Gla','SHR_NCrl_Prin','SHR_NHsd','SHR_OlaIpcv_Prin','SHR_olalPcv','SR_Jr','SS_Jr','SS_JrHsdMcwi','WAG_Rij','WKY_Gla','WKY_NCrl','WKY_NHsd','tadao_F344']\n",
      "for i in strainList:\n",
      "    strainContigNames = open('/Users/robin/MEGA/Work/Hubrecht/Unmapped/contigNames/' + i, 'r')\n",
      "    for j in strainContigNames:\n",
      "        eval(i).append(j.rstrip())\n",
      "    strainContigNames.close()"
     ],
     "language": "python",
     "metadata": {},
     "outputs": [],
     "prompt_number": 15
    },
    {
     "cell_type": "code",
     "collapsed": false,
     "input": [
      "pslList = open('/Users/robin/MEGA/Work/Hubrecht/Unmapped/contigBlatResults/blat/fileList','r')\n",
      "for path in pslList:\n",
      "    if path.rstrip() in ignoreList:\n",
      "        continue\n",
      "    else:\n",
      "        q = os.path.basename(path).rstrip().split('_in_')[0]\n",
      "        t = os.path.basename(path).rstrip().split('_in_')[1].replace('.psl','')\n",
      "        f = open('/Users/robin/MEGA/Work/Hubrecht/Unmapped/contigBlatResults/blat/' + path.rstrip(),'r')\n",
      "        #print(path.rstrip())\n",
      "        for line in f:\n",
      "            fields = re.split(r'\\t+', line.rstrip('\\t'))\n",
      "            match = float(fields[0])\n",
      "            tsize = float(fields[14])\n",
      "            tname = str(fields[13])\n",
      "            if match > 100 and (match/tsize) > 0.9:\n",
      "                try:\n",
      "                    eval(t).remove(tname)\n",
      "                except ValueError:\n",
      "                    continue  \n",
      "            elif tsize < 500:\n",
      "                try:\n",
      "                    eval(t).remove(tname)\n",
      "                except ValueError:\n",
      "                    continue \n",
      "        f.close()\n",
      "pslList.close()"
     ],
     "language": "python",
     "metadata": {},
     "outputs": [
      {
       "ename": "NameError",
       "evalue": "name 'ignoreList' is not defined",
       "output_type": "pyerr",
       "traceback": [
        "\u001b[0;31m---------------------------------------------------------------------------\u001b[0m\n\u001b[0;31mNameError\u001b[0m                                 Traceback (most recent call last)",
        "\u001b[0;32m<ipython-input-1-df0f865762be>\u001b[0m in \u001b[0;36m<module>\u001b[0;34m()\u001b[0m\n\u001b[1;32m      1\u001b[0m \u001b[0mpslList\u001b[0m \u001b[0;34m=\u001b[0m \u001b[0mopen\u001b[0m\u001b[0;34m(\u001b[0m\u001b[0;34m'/Users/robin/MEGA/Work/Hubrecht/Unmapped/contigBlatResults/blat/fileList'\u001b[0m\u001b[0;34m,\u001b[0m\u001b[0;34m'r'\u001b[0m\u001b[0;34m)\u001b[0m\u001b[0;34m\u001b[0m\u001b[0m\n\u001b[1;32m      2\u001b[0m \u001b[0;32mfor\u001b[0m \u001b[0mpath\u001b[0m \u001b[0;32min\u001b[0m \u001b[0mpslList\u001b[0m\u001b[0;34m:\u001b[0m\u001b[0;34m\u001b[0m\u001b[0m\n\u001b[0;32m----> 3\u001b[0;31m     \u001b[0;32mif\u001b[0m \u001b[0mpath\u001b[0m\u001b[0;34m.\u001b[0m\u001b[0mrstrip\u001b[0m\u001b[0;34m(\u001b[0m\u001b[0;34m)\u001b[0m \u001b[0;32min\u001b[0m \u001b[0mignoreList\u001b[0m\u001b[0;34m:\u001b[0m\u001b[0;34m\u001b[0m\u001b[0m\n\u001b[0m\u001b[1;32m      4\u001b[0m         \u001b[0;32mcontinue\u001b[0m\u001b[0;34m\u001b[0m\u001b[0m\n\u001b[1;32m      5\u001b[0m     \u001b[0;32melse\u001b[0m\u001b[0;34m:\u001b[0m\u001b[0;34m\u001b[0m\u001b[0m\n",
        "\u001b[0;31mNameError\u001b[0m: name 'ignoreList' is not defined"
       ]
      }
     ],
     "prompt_number": 1
    },
    {
     "cell_type": "code",
     "collapsed": false,
     "input": [
      "for i in strainList:\n",
      "    filE = open(str(\"../\" + i + \"_SSpec_sim90_500BPplus.lst\"),'w')\n",
      "    filE.write(\"\\n\".join(eval(i)))\n",
      "    filE.close()"
     ],
     "language": "python",
     "metadata": {},
     "outputs": [],
     "prompt_number": 18
    }
   ],
   "metadata": {}
  }
 ]
}